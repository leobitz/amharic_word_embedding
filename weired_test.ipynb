{
 "cells": [
  {
   "cell_type": "code",
   "execution_count": 1,
   "metadata": {},
   "outputs": [
    {
     "name": "stderr",
     "output_type": "stream",
     "text": [
      "c:\\users\\leo\\appdata\\local\\conda\\conda\\envs\\gpu-tf\\lib\\site-packages\\h5py\\__init__.py:36: FutureWarning: Conversion of the second argument of issubdtype from `float` to `np.floating` is deprecated. In future, it will be treated as `np.float64 == np.dtype(float).type`.\n",
      "  from ._conv import register_converters as _register_converters\n",
      "Using TensorFlow backend.\n",
      "c:\\users\\leo\\appdata\\local\\conda\\conda\\envs\\gpu-tf\\lib\\site-packages\\gensim\\utils.py:1212: UserWarning: detected Windows; aliasing chunkize to chunkize_serial\n",
      "  warnings.warn(\"detected Windows; aliasing chunkize to chunkize_serial\")\n"
     ]
    }
   ],
   "source": [
    "from keras.models import Sequential\n",
    "from keras.layers import Dense\n",
    "from keras.layers import Dropout\n",
    "from keras.layers import LSTM, TimeDistributed\n",
    "from keras.layers import Concatenate, Flatten\n",
    "from keras.layers import GRU, Conv2D, MaxPooling2D\n",
    "from keras.layers import Input, Reshape, Dot, Add\n",
    "from keras.models import Model\n",
    "from keras.optimizers import Adam\n",
    "from keras.optimizers import RMSprop\n",
    "# from keras.utils.vis_utils import plot_model\n",
    "import keras\n",
    "import keras.backend as K\n",
    "from data_handle import *\n",
    "from gensim_wrapper import *\n",
    "from utils import *\n",
    "import gensim\n",
    "import random\n",
    "import numpy as np\n",
    "import tensorflow as tf\n",
    "seed_val = 1000\n",
    "random.seed(seed_val)\n",
    "np.random.seed(seed_val)\n",
    "tf.set_random_seed(seed_val)"
   ]
  },
  {
   "cell_type": "code",
   "execution_count": 2,
   "metadata": {},
   "outputs": [],
   "source": [
    "def parseVec(file, delimiter, word2int):\n",
    "    lines = open(file, encoding='utf8').readlines()\n",
    "    vocab_size, embed_size = [int(s) for s in lines[0].split()]\n",
    "    vocab_size  = min(len(word2int), vocab_size)\n",
    "    embeddings = np.zeros((vocab_size + 1, embed_size), dtype=np.float64)\n",
    "    for i in range(1, vocab_size):\n",
    "        try:\n",
    "            line = lines[i][:-1].split(delimiter)\n",
    "            word = line[0]\n",
    "            if '*###*' in word or 'unk' in word:\n",
    "                continue\n",
    "            if word in word2int:\n",
    "                wordvec = np.array([np.float64(j) for j in line[1:] if j != ''])\n",
    "                embeddings[word2int[word]] = wordvec\n",
    "        except Exception as e:\n",
    "#             print(lines[i])\n",
    "            print(e)\n",
    "    return embeddings"
   ]
  },
  {
   "cell_type": "code",
   "execution_count": 3,
   "metadata": {},
   "outputs": [],
   "source": [
    "words = read_file(filename='data/news_mini.txt')\n",
    "words, word2freq = min_count_threshold(words)\n",
    "vocab, word2int, int2word = build_vocab(words)"
   ]
  },
  {
   "cell_type": "code",
   "execution_count": 4,
   "metadata": {},
   "outputs": [],
   "source": [
    "xwords = read_file(filename='data/news.txt')\n",
    "xwords, xword2freq = min_count_threshold(xwords)\n",
    "xvocab, xword2int, xint2word = build_vocab(xwords)"
   ]
  },
  {
   "cell_type": "code",
   "execution_count": 5,
   "metadata": {},
   "outputs": [],
   "source": [
    "del word2int['*###*']\n",
    "del xword2int['*###*']"
   ]
  },
  {
   "cell_type": "code",
   "execution_count": 6,
   "metadata": {},
   "outputs": [],
   "source": [
    "w2v_mini = parseVec('results/w2v_mini.txt', ' ', word2int)\n",
    "w2v = parseVec('results/w2v.txt', ' ', word2int=xword2int)"
   ]
  },
  {
   "cell_type": "code",
   "execution_count": 76,
   "metadata": {},
   "outputs": [],
   "source": [
    "mine = parseVec('results/w2v_high_1_4.txt', ' ', word2int)"
   ]
  },
  {
   "cell_type": "code",
   "execution_count": 77,
   "metadata": {},
   "outputs": [
    {
     "name": "stderr",
     "output_type": "stream",
     "text": [
      "D:\\Library\\Projects\\amharic_word_embedding\\data_handle.py:309: RuntimeWarning: invalid value encountered in true_divide\n",
      "  return array / norms\n"
     ]
    }
   ],
   "source": [
    "mini_utils= Utils(embedding=normalize(w2v_mini), int2word=int2word, word2int=word2int)\n",
    "mine_utils= Utils(embedding=normalize(mine), int2word=int2word, word2int=word2int)\n",
    "ref_utils= Utils(embedding=normalize(w2v), int2word=xint2word, word2int=xword2int)"
   ]
  },
  {
   "cell_type": "code",
   "execution_count": 78,
   "metadata": {},
   "outputs": [
    {
     "name": "stdout",
     "output_type": "stream",
     "text": [
      "መቼ 229\n",
      "\n",
      "መቼ\t\t\tመቼ\t\t\tመቼ\n",
      "ከምንም\t\t\tአለብኝ\t\t\tየት\n",
      "የኋላ\t\t\tአዎ\t\t\tቆይ\n",
      "አነጋገር\t\t\tአቤት\t\t\tማን\n",
      "የገበያ\t\t\tእሺ\t\t\tእንዲያው\n",
      "ይላል\t\t\tይመስል\t\t\tየትና\n",
      "ብቸኛ\t\t\tንጉሡ\t\t\tእያልኩ\n",
      "አስገንዝበዋል\t\t\tጎልማሳ\t\t\tእንዴ\n",
      "ለድርድር\t\t\tእሱን\t\t\tለምንስ\n",
      "ክስተት\t\t\tወይዘሮዋ\t\t\tከመቼ\n",
      "በየቀኑ\t\t\tልጁ\t\t\tማንስ\n",
      "የተዘጋጀ\t\t\tወንድሜ\t\t\tበማን\n",
      "ልመና\t\t\tሄዶ\t\t\tእናንተ\n",
      "አሁንም\t\t\tግራ\t\t\tእንዴት\n",
      "ወሳኝ\t\t\tተሳፋሪ\t\t\tለምን\n",
      "ተሳፋሪ\t\t\tየተቀመጠ\t\t\tአይደል\n",
      "መቀነስ\t\t\tወዲያው\t\t\tመሰላችሁ\n",
      "የሚመሩት\t\t\tደስ\t\t\tማንን\n",
      "ሁሉን\t\t\tበሉ\t\t\tእንጃ\n",
      "ይኼን\t\t\tይኼን\t\t\tታዲያ\n"
     ]
    }
   ],
   "source": [
    "index = np.random.randint(1000) + 1\n",
    "index = 229\n",
    "word = words[index]\n",
    "print(word, index)\n",
    "r1 = mine_utils.sorted_sim(word, 20)\n",
    "r2 = mini_utils.sorted_sim(word, 20)\n",
    "r3 = ref_utils.sorted_sim(word, 20)\n",
    "print()\n",
    "\n",
    "for i in range(len(r1)):\n",
    "    print(\"{0}\\t\\t\\t{1}\\t\\t\\t{2}\".format(r1[i][0], r2[i][0], r3[i][0]))"
   ]
  },
  {
   "cell_type": "code",
   "execution_count": null,
   "metadata": {},
   "outputs": [],
   "source": []
  },
  {
   "cell_type": "code",
   "execution_count": null,
   "metadata": {},
   "outputs": [],
   "source": []
  }
 ],
 "metadata": {
  "kernelspec": {
   "display_name": "Python 3",
   "language": "python",
   "name": "python3"
  },
  "language_info": {
   "codemirror_mode": {
    "name": "ipython",
    "version": 3
   },
   "file_extension": ".py",
   "mimetype": "text/x-python",
   "name": "python",
   "nbconvert_exporter": "python",
   "pygments_lexer": "ipython3",
   "version": "3.6.5"
  }
 },
 "nbformat": 4,
 "nbformat_minor": 2
}
