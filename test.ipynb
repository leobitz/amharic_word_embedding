{
 "cells": [
  {
   "cell_type": "code",
   "execution_count": 1,
   "metadata": {},
   "outputs": [
    {
     "name": "stderr",
     "output_type": "stream",
     "text": [
      "c:\\users\\leo\\appdata\\local\\conda\\conda\\envs\\gpu-tf\\lib\\site-packages\\h5py\\__init__.py:36: FutureWarning: Conversion of the second argument of issubdtype from `float` to `np.floating` is deprecated. In future, it will be treated as `np.float64 == np.dtype(float).type`.\n",
      "  from ._conv import register_converters as _register_converters\n",
      "Using TensorFlow backend.\n",
      "c:\\users\\leo\\appdata\\local\\conda\\conda\\envs\\gpu-tf\\lib\\site-packages\\gensim\\utils.py:1212: UserWarning: detected Windows; aliasing chunkize to chunkize_serial\n",
      "  warnings.warn(\"detected Windows; aliasing chunkize to chunkize_serial\")\n"
     ]
    }
   ],
   "source": [
    "from keras.models import Sequential\n",
    "from keras.layers import Dense\n",
    "from keras.layers import Dropout\n",
    "from keras.layers import LSTM, TimeDistributed\n",
    "from keras.layers import Concatenate, Flatten\n",
    "from keras.layers import GRU, Conv2D, MaxPooling2D\n",
    "from keras.layers import Input, Reshape, Dot, Add\n",
    "from keras.models import Model\n",
    "from keras.optimizers import Adam\n",
    "from keras.optimizers import RMSprop\n",
    "# from keras.utils.vis_utils import plot_model\n",
    "import keras\n",
    "import keras.backend as K\n",
    "from data_handle import *\n",
    "from gensim_wrapper import *\n",
    "from utils import *\n",
    "import gensim\n",
    "import random\n",
    "import numpy as np\n",
    "import tensorflow as tf\n",
    "seed_val = 1000\n",
    "random.seed(seed_val)\n",
    "np.random.seed(seed_val)\n",
    "tf.set_random_seed(seed_val)"
   ]
  },
  {
   "cell_type": "code",
   "execution_count": 2,
   "metadata": {},
   "outputs": [],
   "source": [
    "def evaluate(final_embedding, word2int, embed_size):\n",
    "    gensim_w = GensimWrapper(file=\"data/news.txt\", test_file='data/newan2.txt', embed_size=100, iter=0, log=False)\n",
    "    gensim_w.set_embeddings(word2int, final_embedding)\n",
    "    result = gensim_w.evaluate()\n",
    "    for key in result:\n",
    "        print(\"{0}: {1:.2f}%\".format(key, result[key]), end=' ')\n",
    "    print()"
   ]
  },
  {
   "cell_type": "code",
   "execution_count": 3,
   "metadata": {},
   "outputs": [
    {
     "name": "stdout",
     "output_type": "stream",
     "text": [
      "58384\n"
     ]
    }
   ],
   "source": [
    "words = read_file(filename='data/news.txt')\n",
    "unkown_word = \"<unk>\"\n",
    "# words = [unkown_word] + words\n",
    "xvocab, xword2int, xint2word = build_vocab(words)\n",
    "\n",
    "words, word2freq = min_count_threshold(words)\n",
    "vocab, word2int, int2word = build_vocab(words)\n",
    "print(len(vocab))\n",
    "# word2freq = get_frequency(words, word2int, int2word)\n",
    "unigrams = [word2freq[int2word[i]] for i in range(len(word2int))]\n",
    "\n",
    "char2int, int2char, char2tup, tup2char, n_consonant, n_vowel = build_charset()\n",
    "ns_unigrams = ns_sample(word2freq, word2int, int2word, .75)\n",
    "n_chars = 11 + 2 \n",
    "n_features = len(char2int)\n",
    "batch_size = 120\n",
    "embed_size = 100\n",
    "skip_window = 5"
   ]
  },
  {
   "cell_type": "code",
   "execution_count": 4,
   "metadata": {},
   "outputs": [],
   "source": [
    "def parseVec(file, delimiter):\n",
    "    lines = open(file, encoding='utf8').readlines()\n",
    "    vocab_size, embed_size = [int(s) for s in lines[0].split()]\n",
    "    vocab_size  = max(len(word2int), vocab_size)\n",
    "    embeddings = np.ndarray((vocab_size, embed_size), dtype=np.float64)\n",
    "    for i in range(1, vocab_size):\n",
    "        try:\n",
    "            line = lines[i][:-1].split(delimiter)\n",
    "            word = line[0]\n",
    "            if word in word2int:\n",
    "                wordvec = np.array([np.float64(j) for j in line[1:] if j != ''])\n",
    "                embeddings[word2int[word]] = wordvec\n",
    "        except Exception as e:\n",
    "            print(lines[i])\n",
    "            print(e)\n",
    "    return embeddings"
   ]
  },
  {
   "cell_type": "code",
   "execution_count": null,
   "metadata": {},
   "outputs": [],
   "source": [
    "util = Utils(word2int, int2word, fast)\n",
    "print(util.evaluate_word_analogy('data/analogies.txt'))"
   ]
  },
  {
   "cell_type": "code",
   "execution_count": null,
   "metadata": {},
   "outputs": [],
   "source": [
    "utils = Utils(embedding=cew, word2int=word2int, int2word=int2char)\n",
    "utils.sorted_sim(\"ግaዝêጥeኝa\")"
   ]
  },
  {
   "cell_type": "code",
   "execution_count": null,
   "metadata": {},
   "outputs": [],
   "source": [
    "evaluate(embed_size=embed_size,final_embedding=normalize(fast), word2int=word2int)\n",
    "evaluate(embed_size=embed_size,final_embedding=fast, word2int=word2int)"
   ]
  },
  {
   "cell_type": "code",
   "execution_count": null,
   "metadata": {},
   "outputs": [],
   "source": [
    "utils = Utils(embedding=cew, word2int=xword2int, int2word=int2char)\n",
    "utils.sorted_sim(\"ኢትዮጵያ\")"
   ]
  },
  {
   "cell_type": "code",
   "execution_count": 50,
   "metadata": {},
   "outputs": [
    {
     "name": "stdout",
     "output_type": "stream",
     "text": [
      "(58384, 100)\n"
     ]
    }
   ],
   "source": [
    "cew = parseVec('results/w2v_cnn_.txt', ' ')\n",
    "# print(len(xword2int))\n",
    "# print(cew.shape)\n",
    "# cew = np.load('results/seq_k.npy')\n",
    "# cew = np.concatenate([cew, np.zeros((1, 100))], axis=0)\n",
    "print(cew.shape)"
   ]
  },
  {
   "cell_type": "code",
   "execution_count": 51,
   "metadata": {},
   "outputs": [
    {
     "name": "stderr",
     "output_type": "stream",
     "text": [
      "D:\\Library\\Projects\\amharic_word_embedding\\data_handle.py:284: RuntimeWarning: invalid value encountered in true_divide\n",
      "  return array / norms\n",
      "c:\\users\\leo\\appdata\\local\\conda\\conda\\envs\\gpu-tf\\lib\\site-packages\\gensim\\matutils.py:737: FutureWarning: Conversion of the second argument of issubdtype from `int` to `np.signedinteger` is deprecated. In future, it will be treated as `np.int32 == np.dtype(int).type`.\n",
      "  if np.issubdtype(vec.dtype, np.int):\n"
     ]
    },
    {
     "name": "stdout",
     "output_type": "stream",
     "text": [
      "syntactic: 3.97% semantic: 0.00% total: 2.43% pick-one-out: 65.14% \n",
      "syntactic: 0.00% semantic: 0.00% total: 0.00% pick-one-out: 36.70% \n"
     ]
    }
   ],
   "source": [
    "evaluate(embed_size=cew.shape[1],final_embedding=normalize(cew), word2int=word2int) \n",
    "evaluate(embed_size=cew.shape[1],final_embedding=cew, word2int=word2int)"
   ]
  },
  {
   "cell_type": "code",
   "execution_count": null,
   "metadata": {},
   "outputs": [],
   "source": [
    "def vec(w, v):\n",
    "    return v[word2int[w]]"
   ]
  },
  {
   "cell_type": "code",
   "execution_count": null,
   "metadata": {},
   "outputs": [],
   "source": [
    "lines = open('data/analogies.txt', encoding='utf-8').readlines()\n",
    "e = normalize(cew)\n",
    "# e = cew\n",
    "for line in lines:\n",
    "#     ws = \"ልጅቱ ልጁ ወይዘሮ አቶ\".split(' ')\n",
    "    if \":\" in line:\n",
    "        continue\n",
    "    try:\n",
    "        ws = line[:-1].split(' ')\n",
    "        v = normalize(vec(ws[1], e) - vec(ws[0], e) + vec(ws[2], e))\n",
    "        V = np.dot(e, v)\n",
    "        sort = list(sorted(enumerate(V[1:]), key=lambda x: x[1], reverse=True))\n",
    "        so = [int2word[index[0]] for index in sort[:4]]\n",
    "        if ws[-1] in so:\n",
    "            print(so, ws[-1])\n",
    "#         break\n",
    "    except:\n",
    "        pass"
   ]
  },
  {
   "cell_type": "code",
   "execution_count": null,
   "metadata": {},
   "outputs": [],
   "source": [
    "lines = open('data/analogies.txt', encoding='utf-8').readlines()\n",
    "words = []\n",
    "for line in lines:\n",
    "    ws = line[:-1].split(' ')\n",
    "    in_vocab = True\n",
    "    for w in ws:\n",
    "        if w not in word2int:\n",
    "            in_vocab = False\n",
    "        if in_vocab:\n",
    "            words.append(ws)\n",
    "ws = []\n",
    "for wl in words:\n",
    "    s = ' '.join(wl)\n",
    "    ws.append(s)\n",
    "ws = '\\n'.join(ws)\n",
    "open('data/newan.txt', mode='w', encoding='utf-8').write(ws)\n",
    "\n",
    "        \n",
    "        "
   ]
  },
  {
   "cell_type": "code",
   "execution_count": null,
   "metadata": {},
   "outputs": [],
   "source": [
    "lines = open('data/analogies.txt', encoding='utf-8').readlines()\n",
    "words = []\n",
    "lns = {}\n",
    "for line in lines:\n",
    "    ws = line[:-1].split(' ')\n",
    "    in_vocab = True\n",
    "    for w in ws:\n",
    "        if w not in word2int:\n",
    "            in_vocab = False\n",
    "        if in_vocab:\n",
    "            ln = ' '.join(ws)\n",
    "            if ln not in lns:\n",
    "                lns[ln] = len(lns)\n",
    "            ls = ' '.join(ws[2:4] + ws[0:2])\n",
    "            if ln not in lns:\n",
    "                lns[ln] = len(lns)\n",
    "ws = '\\n'.join(lns.keys())\n",
    "open('data/newan2.txt', mode='w', encoding='utf-8').write(ws)"
   ]
  },
  {
   "cell_type": "code",
   "execution_count": null,
   "metadata": {},
   "outputs": [],
   "source": []
  }
 ],
 "metadata": {
  "kernelspec": {
   "display_name": "Python 3",
   "language": "python",
   "name": "python3"
  },
  "language_info": {
   "codemirror_mode": {
    "name": "ipython",
    "version": 3
   },
   "file_extension": ".py",
   "mimetype": "text/x-python",
   "name": "python",
   "nbconvert_exporter": "python",
   "pygments_lexer": "ipython3",
   "version": "3.6.5"
  }
 },
 "nbformat": 4,
 "nbformat_minor": 2
}
