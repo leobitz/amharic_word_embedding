{
 "cells": [
  {
   "cell_type": "code",
   "execution_count": null,
   "metadata": {},
   "outputs": [],
   "source": [
    "from keras.models import Sequential\n",
    "from keras.layers import Dense\n",
    "from keras.layers import Dropout\n",
    "from keras.layers import LSTM, TimeDistributed\n",
    "from keras.layers import Concatenate, Flatten\n",
    "from keras.layers import GRU, Conv2D, MaxPooling2D\n",
    "from keras.layers import Input, Reshape, Dot\n",
    "from keras.models import Model\n",
    "from keras.optimizers import Adam\n",
    "from keras.optimizers import RMSprop\n",
    "# from keras.utils.vis_utils import plot_model\n",
    "import keras\n",
    "import keras.backend as K\n",
    "from data_handle import *\n",
    "from gensim_wrapper import *\n",
    "from utils import *"
   ]
  },
  {
   "cell_type": "code",
   "execution_count": null,
   "metadata": {},
   "outputs": [],
   "source": [
    "def conv_model(n_input, n_output, n_enc_units, n_dec_units):\n",
    "    root_word_input = Input(shape=(13, 309, 1), name=\"root_word_input\")\n",
    "    \n",
    "    x = Conv2D(16, (3, 3), padding='same', activation='relu')(root_word_input)\n",
    "    x = MaxPooling2D(2, 2)(x)\n",
    "    x = Conv2D(8, (3, 3), padding='same', activation='relu')(x)\n",
    "    x = MaxPooling2D(2, 2)(x)\n",
    "    \n",
    "    x = Flatten()(x)\n",
    "\n",
    "    state_out = Dense(n_dec_units, activation='tanh')(x)\n",
    "    state_h = Dense(n_dec_units, activation='relu')(state_out)\n",
    "    \n",
    "    decoder_inputs = Input(shape=(None, 309), name=\"target_word_input\")\n",
    "    decoder_gru = GRU(n_dec_units, return_sequences=True, return_state=True, name=\"decoder_gru\")\n",
    "    decoder_outputs, _= decoder_gru(decoder_inputs, initial_state=state_h)\n",
    "    \n",
    "    decoder_dense = Dense(309, activation='softmax', name=\"train_output\")\n",
    "    decoder_outputs = decoder_dense(decoder_outputs)\n",
    "    \n",
    "    model = Model([root_word_input, decoder_inputs], decoder_outputs)\n",
    "    encoder_model = Model(root_word_input, state_out)\n",
    "    \n",
    "    decoder_state_input_h = Input(shape=(n_dec_units,))\n",
    "    decoder_outputs, state_h= decoder_gru(decoder_inputs, initial_state=decoder_state_input_h)\n",
    "\n",
    "    decoder_outputs = decoder_dense(decoder_outputs)\n",
    "    decoder_model = Model([decoder_inputs, decoder_state_input_h], [decoder_outputs, state_h])\n",
    "\n",
    "    return model, encoder_model, decoder_model\n"
   ]
  },
  {
   "cell_type": "code",
   "execution_count": null,
   "metadata": {},
   "outputs": [],
   "source": [
    "def embedding_model(input_size, output_size, embed_size):\n",
    "    context_word = Input(shape=(input_size,), name=\"context_word\")\n",
    "    x = Dense(256, activation='relu')(context_word)\n",
    "    embeding = Dense(embed_size, activation='tanh')(x)\n",
    "    target_word = Dense(output_size, activation='relu')(embeding)\n",
    "    model = Model(context_word, target_word)\n",
    "    em_model = Model(context_word, embeding)\n",
    "    return model, em_model"
   ]
  },
  {
   "cell_type": "code",
   "execution_count": null,
   "metadata": {},
   "outputs": [],
   "source": [
    "def cosine_loss(yTrue, yPred):\n",
    "    loss = K.sum(K.square(yTrue - yPred))\n",
    "    return loss"
   ]
  },
  {
   "cell_type": "code",
   "execution_count": null,
   "metadata": {},
   "outputs": [],
   "source": [
    "def embedding_model2(input_size, output_size, embed_size):\n",
    "    context_word = Input(shape=(input_size,), name=\"context_word\")\n",
    "    target_word = Input(shape=(input_size,), name=\"target_word\")\n",
    "    \n",
    "    layer1 = Dense(200, activation='tanh')\n",
    "    layer2 = Dense(200, activation='tanh')\n",
    "    \n",
    "    x = layer1(context_word)\n",
    "    y = layer1(target_word)\n",
    "#     y = layer2(y)\n",
    "    cosine_sim = Dot(normalize=True, axes=1)([x, y])\n",
    "#     z = Concatenate(axis=1)([x, y])\n",
    "#     z = Dense(20, activation='tanh')(z)\n",
    "    \n",
    "#     output = Dense(1, activation='tanh')(z)\n",
    "    model = Model([context_word, target_word], cosine_sim)\n",
    "    \n",
    "    con_model = Model(context_word, x)\n",
    "    tar_model = Model(target_word, y)\n",
    "    \n",
    "    return model, con_model, tar_model"
   ]
  },
  {
   "cell_type": "code",
   "execution_count": null,
   "metadata": {},
   "outputs": [],
   "source": [
    "def embedding_model3(input_size, output_size, embed_size):\n",
    "    left_word = Input(shape=(input_size,), name=\"left_word\")\n",
    "    right_word = Input(shape=(input_size,), name=\"right_word\")\n",
    "    \n",
    "    layer1 = Dense(128, activation='relu')\n",
    "    layer2 = Dense(128, activation='linear')\n",
    "    \n",
    "    left = layer1(left_word)\n",
    "    right = layer1(right_word)\n",
    "    \n",
    "    left = layer2(left)\n",
    "    right = layer2(right)\n",
    "    \n",
    "    x = Concatenate(axis=1)([left, right])\n",
    "    x = Dense(embed_size, activation='tanh')(x)\n",
    "    \n",
    "    model = Model([left_word, right_word], x)\n",
    "    con_model = Model(left_word, left)\n",
    "    tar_model = Model(right_word, right)\n",
    "    \n",
    "    return model, con_model, tar_model"
   ]
  },
  {
   "cell_type": "code",
   "execution_count": null,
   "metadata": {},
   "outputs": [],
   "source": [
    "def evaluate(final_embedding, word2int, embed_size):\n",
    "    gensim = GensimWrapper(embed_size, 0, log=False)\n",
    "    gensim.set_embeddings(word2int, final_embedding)\n",
    "    result = gensim.evaluate()\n",
    "    for key in result:\n",
    "        print(\"{0}: {1:.2f}%\".format(key, result[key]), end=' ')\n",
    "    print()"
   ]
  },
  {
   "cell_type": "code",
   "execution_count": null,
   "metadata": {},
   "outputs": [],
   "source": [
    "def normalize(embeddings):\n",
    "    norms = np.linalg.norm(embeddings, axis=1, keepdims=True)\n",
    "    return embeddings / norms"
   ]
  },
  {
   "cell_type": "code",
   "execution_count": null,
   "metadata": {
    "scrolled": true
   },
   "outputs": [],
   "source": [
    "words = read_file()\n",
    "vocab, word2int, int2word = build_vocab(words)\n",
    "word2freq = get_frequency(words, word2int, int2word)\n",
    "char2int, int2char, char2tup, tup2char, n_consonant, n_vowel = build_charset()\n",
    "ns_unigrams = ns_sample(word2freq, word2int, int2word, .75)\n",
    "n_chars = 11 + 2 \n",
    "n_features = len(char2int)\n",
    "batch_size = 250\n",
    "embed_size = 128\n",
    "skip_window = 3"
   ]
  },
  {
   "cell_type": "code",
   "execution_count": null,
   "metadata": {},
   "outputs": [],
   "source": [
    "gen = generate_batch_image_v3(words, word2int, char2int, batch_size, skip_window)"
   ]
  },
  {
   "cell_type": "code",
   "execution_count": null,
   "metadata": {},
   "outputs": [],
   "source": [
    "train, infenc, infdec = conv_model(13, 13, embed_size, embed_size)\n",
    "train.compile(optimizer='adam', loss='categorical_crossentropy', metrics=['acc'])"
   ]
  },
  {
   "cell_type": "code",
   "execution_count": null,
   "metadata": {},
   "outputs": [],
   "source": [
    "n_batches = len(words) * 2 * skip_window  // batch_size\n",
    "history = train.fit_generator(gen, steps_per_epoch=n_batches, epochs = 4)"
   ]
  },
  {
   "cell_type": "code",
   "execution_count": null,
   "metadata": {
    "scrolled": true
   },
   "outputs": [],
   "source": [
    "embeddings = np.ndarray((len(vocab), embed_size))\n",
    "i = 0\n",
    "buffer = []\n",
    "buffer_size = 10000\n",
    "for i_word in range(len(vocab)):\n",
    "    word = int2word[i_word]\n",
    "    buffer.append(word2vec(char2int, word, 13))\n",
    "    if len(buffer) == buffer_size or len(vocab) - i_word < buffer_size:\n",
    "        buffer_np = np.stack(buffer).reshape((-1, 13, 309, 1))\n",
    "        result = infenc.predict(buffer_np)\n",
    "        embeddings[i:i+len(buffer)] = result\n",
    "        i += len(buffer)\n",
    "        buffer = []\n",
    "        if i % (4 *buffer_size) == 0:\n",
    "            print(\"Predicting: {0:.2f}%\".format((i * 100.0 / len(vocab))))\n",
    "print(\"finished\")"
   ]
  },
  {
   "cell_type": "code",
   "execution_count": null,
   "metadata": {},
   "outputs": [],
   "source": [
    "embedding_normal = normalize(embeddings)"
   ]
  },
  {
   "cell_type": "code",
   "execution_count": null,
   "metadata": {},
   "outputs": [],
   "source": [
    "evaluate(embedding_normal, embed_size=embed_size, word2int=word2int)"
   ]
  },
  {
   "cell_type": "code",
   "execution_count": null,
   "metadata": {},
   "outputs": [],
   "source": [
    "# min = 1\n",
    "# b = embedding_normal[0]\n",
    "# for i in range(len(embedding_normal)):\n",
    "#     a = embedding_normal[i]\n",
    "#     d = a.dot(b)\n",
    "#     if d < min:\n",
    "#         print(d)\n",
    "#         min = d\n",
    "# embedding_normal[0]"
   ]
  },
  {
   "cell_type": "code",
   "execution_count": null,
   "metadata": {},
   "outputs": [],
   "source": [
    "def get_batch_words(words, start, length):\n",
    "    if start + length > len(words):\n",
    "        end = start + length - len(words)\n",
    "        return words[start:] + words[0:end], end\n",
    "    else:\n",
    "        end = start + length\n",
    "        return words[start:end], end\n",
    "\n",
    "# def get_context_words(words, start, length):\n",
    "#     if start + length > len(words):\n",
    "#         start = 0\n",
    "#     end = start + length\n",
    "#     return words[start:end], end\n"
   ]
  },
  {
   "cell_type": "code",
   "execution_count": null,
   "metadata": {},
   "outputs": [],
   "source": [
    "def generate(data, embeds, word2int, int2word, unigrams, batch_size, skip_window):\n",
    "    embed_szie = embeds.shape[1]\n",
    "    assert batch_size % skip_window == 0\n",
    "    ci = skip_window  # current_index\n",
    "    batch_y = np.ones(shape=(batch_size, 1), dtype=np.float32)\n",
    "    while True:\n",
    "        batch_inputs = np.ndarray(shape=(batch_size, embed_size), dtype=np.float32)\n",
    "        batch_labels = np.ndarray(shape=(batch_size, embed_size), dtype=np.float32)\n",
    "        batch_index = 0\n",
    "        shuffle_index = np.random.shuffle(np.arange(batch_size))\n",
    "        for batch_index in range(0, batch_size, skip_window * 2):  # fill the batch inputs\n",
    "            context = data[ci - skip_window:ci + skip_window + 1]\n",
    "            # remove the target from context words\n",
    "            target = context.pop(skip_window)\n",
    "            # context = random.sample(context, skip_window * 2)\n",
    "            word_index = 0\n",
    "            for b in range(batch_index, batch_index + skip_window * 2):\n",
    "                con_vec = embeds[word2int[context[word_index]]]\n",
    "                target_vec = embeds[word2int[target]]\n",
    "                batch_inputs[b] = con_vec\n",
    "                batch_labels[b] = target_vec\n",
    "                word_index += 1\n",
    "\n",
    "            ci += 1\n",
    "        if len(data) - ci - skip_window < batch_size:\n",
    "            ci = skip_window\n",
    "        for ri  in range(0, batch_size, 2):\n",
    "            batch_labels[ri] = embeds[np.random.randint(len(embeds))]\n",
    "            batch_y[ri][0] = batch_labels[ri].dot(batch_inputs[ri])\n",
    "#         print(batch_labels.shape)\n",
    "#         batch_labels = batch_labels[shuffle_index].reshape((-1, 128))\n",
    "# #         print(batch_labels.shape)\n",
    "#         batch_inputs = batch_inputs[shuffle_index].reshape((-1, 128))\n",
    "#         batch_y = batch_y[shuffle_index].reshape((-1, 1))\n",
    "        yield [batch_inputs, batch_labels], batch_y\n"
   ]
  },
  {
   "cell_type": "code",
   "execution_count": null,
   "metadata": {},
   "outputs": [],
   "source": [
    "def generate2(data, embeds, word2int, batch_size, skip_window):\n",
    "    embed_size = embeds.shape[1]\n",
    "    assert batch_size % skip_window == 0\n",
    "    ci = skip_window  # current_index\n",
    "    input_width = embed_size * 2 * skip_window\n",
    "    while True:\n",
    "        batch_inputs = np.ndarray(shape=(batch_size, input_width), dtype=np.float32)\n",
    "        batch_labels = np.ndarray(shape=(batch_size, embed_size), dtype=np.float32)\n",
    "        batch_index = 0\n",
    "        for batch_index in range(batch_size):  # fill the batch inputs\n",
    "            context = data[ci - skip_window:ci + skip_window + 1]\n",
    "            target = context.pop(skip_window)\n",
    "#             print(context, target)\n",
    "            context_vec = []\n",
    "            target_vec = embeds[word2int[target]]\n",
    "            for word in context:\n",
    "                con_vec = embeds[word2int[word]]\n",
    "                context_vec.append(con_vec)\n",
    "            context_vec = np.hstack(context_vec)\n",
    "#             batch_inputs[batch_index] = context_vec\n",
    "#             batch_labels[batch_index] = target_vec\n",
    "            \n",
    "            ci += 1\n",
    "        if len(data) - ci - skip_window < batch_size:\n",
    "            ci = skip_window\n",
    "        yield batch_inputs, batch_labels\n"
   ]
  },
  {
   "cell_type": "code",
   "execution_count": null,
   "metadata": {},
   "outputs": [],
   "source": [
    "def generate3(data, embeds, word2int, batch_size, skip_window):\n",
    "    embed_size = embeds.shape[1]\n",
    "    ci = 0  # current_word_index\n",
    "    input_width = embed_size * 2 * skip_window\n",
    "    while True:\n",
    "        batch_inputs_left = np.ndarray(shape=(batch_size, embed_size), dtype=np.float32)\n",
    "        batch_inputs_right = np.ndarray(shape=(batch_size, embed_size), dtype=np.float32)\n",
    "        batch_labels = np.ndarray(shape=(batch_size, embed_size), dtype=np.float32)\n",
    "        batch_index = 0\n",
    "        for batch_index in range(batch_size):  # fill the batch inputs\n",
    "            context, ci = get_context_words(data, ci, 3)\n",
    "            ci = ci - 2\n",
    "            left_word_vec = embeds[word2int[context[0]]]\n",
    "            target_vec = embeds[word2int[context[1]]]\n",
    "            right_word_vec = embeds[word2int[context[2]]]\n",
    "            batch_inputs_left[batch_index] = left_word_vec\n",
    "            batch_inputs_right[batch_index] = right_word_vec\n",
    "            batch_labels[batch_index] = target_vec\n",
    "\n",
    "        yield [batch_inputs_left, batch_inputs_right], batch_labels\n"
   ]
  },
  {
   "cell_type": "code",
   "execution_count": null,
   "metadata": {},
   "outputs": [],
   "source": [
    "gen3 = generate3(words, embedding_normal, word2int, batch_size, 3)"
   ]
  },
  {
   "cell_type": "code",
   "execution_count": null,
   "metadata": {},
   "outputs": [],
   "source": [
    "window = 3\n",
    "semantic_batch_size = 120\n",
    "input_size = 128\n",
    "# gg =  generate2(words, embeds_norm, word2int, batch_size=semantic_batch_size, skip_window=window) "
   ]
  },
  {
   "cell_type": "code",
   "execution_count": null,
   "metadata": {
    "scrolled": true
   },
   "outputs": [],
   "source": [
    "train_model, con_model, tar_model = embedding_model3(input_size, 128, embed_size)\n",
    "adam = keras.optimizers.Nadam(0.0001)\n",
    "train_model.compile(optimizer=adam, loss=\"mse\")\n",
    "train_model.summary()"
   ]
  },
  {
   "cell_type": "code",
   "execution_count": null,
   "metadata": {},
   "outputs": [],
   "source": [
    "n_batches = len(words) // semantic_batch_size\n",
    "history = train_model.fit_generator(gen3, steps_per_epoch=n_batches, epochs = 2)"
   ]
  },
  {
   "cell_type": "code",
   "execution_count": null,
   "metadata": {},
   "outputs": [],
   "source": [
    "g = generate(words, embedding_normal, word2int, int2word, ns_unigrams, batch_size=semantic_batch_size, skip_window=3)\n",
    "[a, b], y = next(g)\n",
    "print(y)"
   ]
  },
  {
   "cell_type": "code",
   "execution_count": null,
   "metadata": {},
   "outputs": [],
   "source": [
    "input_size = 128#window * 2* embed_size\n",
    "# em_train, em_out = embedding_model(input_size, 128, embed_size)\n",
    "# adam = keras.optimizers.Nadam(lr=0.002)\n",
    "# em_train.compile(optimizer=adam, loss='mean_squared_error')\n",
    "# em_train.summary()"
   ]
  },
  {
   "cell_type": "code",
   "execution_count": null,
   "metadata": {},
   "outputs": [],
   "source": [
    "train_model, con_model, tar_model = embedding_model2(input_size, 128, embed_size)\n",
    "adam = keras.optimizers.SGD(0.001)\n",
    "train_model.compile(optimizer=adam, loss=\"mse\", metrics=['mse', 'acc'])\n",
    "train_model.summary()"
   ]
  },
  {
   "cell_type": "code",
   "execution_count": null,
   "metadata": {},
   "outputs": [],
   "source": [
    "n_batches = len(words) // semantic_batch_size\n",
    "history = train_model.fit_generator(g, steps_per_epoch=n_batches, epochs = 2)"
   ]
  },
  {
   "cell_type": "code",
   "execution_count": null,
   "metadata": {},
   "outputs": [],
   "source": [
    "context_vecs = []\n",
    "for i_word in range(len(vocab)):\n",
    "    word = int2word[i_word]\n",
    "    context_vecs.append(embedding_normal[word2int[word]])\n",
    "context_vecs = np.stack(context_vecs)\n",
    "context_embed = con_model.predict(context_vecs)\n",
    "# target_embed = tar_model.predict(context_vecs)\n",
    "# em = context_embed + target_embed"
   ]
  },
  {
   "cell_type": "code",
   "execution_count": null,
   "metadata": {},
   "outputs": [],
   "source": [
    "em_normal = normalize(context_embed)\n",
    "evaluate(em_normal, word2int, embed_size=em_normal.shape[1])"
   ]
  },
  {
   "cell_type": "code",
   "execution_count": null,
   "metadata": {},
   "outputs": [],
   "source": [
    "utils = Utils(word2int, em_normal)\n",
    "v = -em_normal[word2int['ገንዘብ']] + em_normal[word2int['ብር']]\n",
    "dots = em_normal.dot(v).flatten()\n",
    "int2word[np.argmax(dots)]\n",
    "utils.sorted_sim(\"ዶላር\")\n",
    "utils.sorted_sim(\"ብር\")"
   ]
  },
  {
   "cell_type": "code",
   "execution_count": null,
   "metadata": {},
   "outputs": [],
   "source": [
    "con_input = [\n",
    "    embedding_normal[word2int['ነበር']].reshape((1, 128)),\n",
    "    embedding_normal[word2int['ነው']].reshape((1, 128)),\n",
    "]\n",
    "vec = train_model.predict(con_input).flatten()\n",
    "print(embedding_normal[word2int['ነበር']].dot(embedding_normal[word2int['ነው']]))\n",
    "int2word[np.argmax(embedding_normal.dot(vec))]"
   ]
  },
  {
   "cell_type": "code",
   "execution_count": null,
   "metadata": {},
   "outputs": [],
   "source": [
    "min = 1\n",
    "b = em_normal[0]\n",
    "for i in range(len(em_normal)):\n",
    "    a = em_normal[i]\n",
    "    d = a.dot(b)\n",
    "    if d < min:\n",
    "        print(d)\n",
    "        min = d\n",
    "# embedding_normal[0]"
   ]
  },
  {
   "cell_type": "code",
   "execution_count": null,
   "metadata": {
    "scrolled": true
   },
   "outputs": [],
   "source": [
    "# semantic = em_out.predict(embeds_norm)\n",
    "# gensim = GensimWrapper(embed_size, 0, log=True)\n",
    "# embeds = embeds.reshape((-1, 128))\n",
    "# norms = np.linalg.norm(semantic, axis=1, keepdims=True)\n",
    "# semantic_norm = semantic / norms\n",
    "vecs = []\n",
    "discovered = {}\n",
    "for i in range(window, len(words) - window):\n",
    "    context = words[i - window: i + window + 1]\n",
    "    target = context.pop(window)\n",
    "    if target not in discovered:\n",
    "        discovered[target] = len(discovered)\n",
    "        c_vec = []\n",
    "        for cword in context:\n",
    "            vec = embeds_norm[word2int[cword]]\n",
    "            c_vec.append(vec)\n",
    "        context_vec = np.hstack(c_vec)\n",
    "        vecs.append(context_vec)\n",
    "    if len(discovered) == len(vocab):\n",
    "        print(\"discovered\")\n",
    "        break\n",
    "    \n",
    "semantic = np.stack(vecs).reshape(-1, input_size)\n",
    "print(len(vecs), embeds_norm.shape)\n",
    "assert semantic.shape[0] == embeds_norm.shape[0]\n",
    "# semantic = em_out.predict(embeds_norm)\n",
    "# gensim = GensimWrapper(embed_size, 0, log=True)\n",
    "# embeds = embeds.reshape((-1, 128))\n",
    "# norms = np.linalg.norm(semantic, axis=1, keepdims=True)\n",
    "# semantic_norm = semantic / norms\n"
   ]
  },
  {
   "cell_type": "code",
   "execution_count": null,
   "metadata": {},
   "outputs": [],
   "source": []
  }
 ],
 "metadata": {
  "kernelspec": {
   "display_name": "Python 3",
   "language": "python",
   "name": "python3"
  },
  "language_info": {
   "codemirror_mode": {
    "name": "ipython",
    "version": 3
   },
   "file_extension": ".py",
   "mimetype": "text/x-python",
   "name": "python",
   "nbconvert_exporter": "python",
   "pygments_lexer": "ipython3",
   "version": "3.6.5"
  }
 },
 "nbformat": 4,
 "nbformat_minor": 2
}
