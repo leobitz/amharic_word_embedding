{
 "cells": [
  {
   "cell_type": "code",
   "execution_count": 2,
   "metadata": {},
   "outputs": [],
   "source": [
    "from keras.models import Sequential\n",
    "from keras.layers import Dense\n",
    "from keras.layers import Dropout\n",
    "from keras.layers import LSTM, TimeDistributed\n",
    "from keras.layers import Concatenate, Flatten\n",
    "from keras.layers import GRU, Conv2D, MaxPooling2D\n",
    "from keras.layers import Input, Reshape, Dot, Add\n",
    "from keras.models import Model\n",
    "from keras.optimizers import Adam\n",
    "from keras.optimizers import RMSprop\n",
    "# from keras.utils.vis_utils import plot_model\n",
    "import keras\n",
    "import keras.backend as K\n",
    "from data_handle import *\n",
    "from gensim_wrapper import *\n",
    "from utils import *\n",
    "import gensim\n",
    "import random\n",
    "import numpy as np\n",
    "import tensorflow as tf\n",
    "seed_val = 1000\n",
    "random.seed(seed_val)\n",
    "np.random.seed(seed_val)\n",
    "tf.set_random_seed(seed_val)"
   ]
  },
  {
   "cell_type": "code",
   "execution_count": 18,
   "metadata": {},
   "outputs": [],
   "source": [
    "words = read_file()\n",
    "vocab, word2int, int2word = build_vocab(words)\n",
    "int_words = words_to_ints(word2int, words)\n",
    "word2freq = get_frequency(words, word2int, int2word)\n",
    "char2int, int2char, char2tup, tup2char, n_consonant, n_vowel = build_charset()\n",
    "ns_unigrams = ns_sample(word2freq, word2int, int2word, .75)\n",
    "n_chars = 11 + 2 \n",
    "n_features = len(char2int)\n",
    "batch_size = 120\n",
    "embed_size = 128\n",
    "skip_window = 5"
   ]
  },
  {
   "cell_type": "code",
   "execution_count": 15,
   "metadata": {},
   "outputs": [],
   "source": [
    "def evaluate(final_embedding, word2int, embed_size):\n",
    "    gensim = GensimWrapper(embed_size, 0, log=False)\n",
    "    gensim.set_embeddings(word2int, final_embedding)\n",
    "    result = gensim.evaluate()\n",
    "    for key in result:\n",
    "        print(\"{0}: {1:.2f}%\".format(key, result[key]), end=' ')\n",
    "    print()"
   ]
  },
  {
   "cell_type": "code",
   "execution_count": 34,
   "metadata": {},
   "outputs": [
    {
     "name": "stderr",
     "output_type": "stream",
     "text": [
      "D:\\Library\\Projects\\amharic_word_embedding\\data_handle.py:217: RuntimeWarning: invalid value encountered in true_divide\n",
      "  return array / norms\n"
     ]
    }
   ],
   "source": [
    "seq_embeddings = np.load('results/char_embedding.npy')\n",
    "sem_embeddings = np.load('results/word2vec_embedding.npy')\n",
    "seq_em = normalize(seq_embeddings)\n",
    "sem_em = normalize(sem_embeddings)"
   ]
  },
  {
   "cell_type": "code",
   "execution_count": 106,
   "metadata": {},
   "outputs": [
    {
     "name": "stdout",
     "output_type": "stream",
     "text": [
      "-23.089790721731596 39650.2555692447 1413.9790310317721\n"
     ]
    }
   ],
   "source": [
    "dot_prods = np.einsum('ij,ij->i', seq_embeddings, sem_embeddings).reshape((-1, 1))\n",
    "seq_norms = np.linalg.norm(seq_embeddings, keepdims=True)**2\n",
    "sem_norms = np.linalg.norm(sem_embeddings, keepdims=True)**2\n",
    "for_seq = dot_prods/seq_norms\n",
    "for_sem = dot_prods/sem_norms\n",
    "seq_proj = for_seq * seq_embeddings\n",
    "sem_proj = for_sem * sem_embeddings\n",
    "print(dot_prods.mean(), (seq_norms**.5).mean(), (sem_norms **.5).mean())"
   ]
  },
  {
   "cell_type": "code",
   "execution_count": 119,
   "metadata": {},
   "outputs": [
    {
     "name": "stderr",
     "output_type": "stream",
     "text": [
      "D:\\Library\\Projects\\amharic_word_embedding\\data_handle.py:217: RuntimeWarning: invalid value encountered in true_divide\n",
      "  return array / norms\n"
     ]
    }
   ],
   "source": [
    "seq = normalize(0.0357*seq_embeddings + sem_embeddings)\n",
    "sem = normalize(sem_embeddings )\n",
    "\n",
    "# seq = 10*seq_em + sem_em\n",
    "# seq = normalize(seq_embeddings)\n",
    "# sem = normalize(sem_embeddings)\n"
   ]
  },
  {
   "cell_type": "code",
   "execution_count": 139,
   "metadata": {},
   "outputs": [
    {
     "name": "stderr",
     "output_type": "stream",
     "text": [
      "D:\\Library\\Projects\\amharic_word_embedding\\data_handle.py:217: RuntimeWarning: invalid value encountered in true_divide\n",
      "  return array / norms\n",
      "c:\\users\\leo\\appdata\\local\\conda\\conda\\envs\\gpu-tf\\lib\\site-packages\\gensim\\matutils.py:737: FutureWarning: Conversion of the second argument of issubdtype from `int` to `np.signedinteger` is deprecated. In future, it will be treated as `np.int32 == np.dtype(int).type`.\n",
      "  if np.issubdtype(vec.dtype, np.int):\n"
     ]
    },
    {
     "name": "stdout",
     "output_type": "stream",
     "text": [
      "anomaly: 72.48% semantic: 6.49% syntactic: 8.33% \n",
      "None\n",
      "anomaly: 72.48% semantic: 6.49% syntactic: 8.33% \n",
      "None\n",
      "anomaly: 72.48% semantic: 6.49% syntactic: 8.33% \n",
      "None\n",
      "anomaly: 72.48% semantic: 6.49% syntactic: 7.58% \n",
      "None\n",
      "anomaly: 72.48% semantic: 6.49% syntactic: 7.58% \n",
      "None\n",
      "anomaly: 72.48% semantic: 7.03% syntactic: 7.58% \n",
      "None\n",
      "anomaly: 71.56% semantic: 7.03% syntactic: 7.58% \n",
      "None\n",
      "anomaly: 71.56% semantic: 7.57% syntactic: 7.58% \n",
      "None\n",
      "anomaly: 71.56% semantic: 7.57% syntactic: 7.58% \n",
      "None\n",
      "anomaly: 71.56% semantic: 7.57% syntactic: 6.82% \n",
      "None\n",
      "anomaly: 71.56% semantic: 7.57% syntactic: 6.82% \n",
      "None\n",
      "anomaly: 71.56% semantic: 7.57% syntactic: 6.82% \n",
      "None\n",
      "anomaly: 71.56% semantic: 7.57% syntactic: 6.06% \n",
      "None\n",
      "anomaly: 71.56% semantic: 7.57% syntactic: 6.06% \n",
      "None\n",
      "anomaly: 71.56% semantic: 8.11% syntactic: 6.06% \n",
      "None\n",
      "anomaly: 71.56% semantic: 8.11% syntactic: 6.06% \n",
      "None\n",
      "anomaly: 71.56% semantic: 8.11% syntactic: 6.06% \n",
      "None\n",
      "anomaly: 71.56% semantic: 8.11% syntactic: 6.06% \n",
      "None\n",
      "anomaly: 71.56% semantic: 8.11% syntactic: 6.06% \n",
      "None\n",
      "anomaly: 71.56% semantic: 8.65% syntactic: 5.30% \n",
      "None\n"
     ]
    }
   ],
   "source": [
    "for i in np.arange(.75, 0.55, -0.01):\n",
    "    seq = np.concatenate([i*normalize(seq_embeddings), normalize(sem_embeddings)], axis=1)\n",
    "    print(evaluate(seq, word2int, embed_size*2))"
   ]
  },
  {
   "cell_type": "code",
   "execution_count": 110,
   "metadata": {},
   "outputs": [
    {
     "name": "stderr",
     "output_type": "stream",
     "text": [
      "c:\\users\\leo\\appdata\\local\\conda\\conda\\envs\\gpu-tf\\lib\\site-packages\\gensim\\matutils.py:737: FutureWarning: Conversion of the second argument of issubdtype from `int` to `np.signedinteger` is deprecated. In future, it will be treated as `np.int32 == np.dtype(int).type`.\n",
      "  if np.issubdtype(vec.dtype, np.int):\n"
     ]
    },
    {
     "name": "stdout",
     "output_type": "stream",
     "text": [
      "anomaly: 69.72% semantic: 11.35% syntactic: 1.52% \n"
     ]
    }
   ],
   "source": [
    "evaluate(sem, word2int, embed_size)"
   ]
  },
  {
   "cell_type": "code",
   "execution_count": null,
   "metadata": {},
   "outputs": [],
   "source": []
  },
  {
   "cell_type": "code",
   "execution_count": null,
   "metadata": {},
   "outputs": [],
   "source": []
  }
 ],
 "metadata": {
  "kernelspec": {
   "display_name": "Python 3",
   "language": "python",
   "name": "python3"
  },
  "language_info": {
   "codemirror_mode": {
    "name": "ipython",
    "version": 3
   },
   "file_extension": ".py",
   "mimetype": "text/x-python",
   "name": "python",
   "nbconvert_exporter": "python",
   "pygments_lexer": "ipython3",
   "version": "3.6.5"
  }
 },
 "nbformat": 4,
 "nbformat_minor": 2
}
