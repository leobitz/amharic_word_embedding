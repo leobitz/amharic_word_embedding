{
 "cells": [
  {
   "cell_type": "code",
   "execution_count": null,
   "metadata": {},
   "outputs": [],
   "source": [
    "import random\n",
    "seed_val = 1000\n",
    "random.seed(seed_val)\n",
    "import numpy as np\n",
    "np.random.seed(seed_val)\n",
    "import tensorflow as tf\n",
    "tf.set_random_seed(seed_val)\n",
    "from keras.models import Sequential\n",
    "from keras.layers import Dense\n",
    "from keras.layers import Dropout\n",
    "from keras.layers import LSTM, TimeDistributed\n",
    "from keras.layers import Concatenate, Flatten, Lambda\n",
    "from keras.layers import GRU, Conv2D, MaxPooling2D\n",
    "from keras.layers import Input, Reshape, Dot, Add\n",
    "from keras.models import Model\n",
    "from keras.optimizers import Adam\n",
    "from keras.optimizers import RMSprop\n",
    "from keras import regularizers\n",
    "from keras.utils.vis_utils import plot_model\n",
    "from keras.callbacks import ModelCheckpoint\n",
    "import keras\n",
    "import keras.backend as K\n",
    "from data_handle import *\n",
    "from gensim_wrapper import *\n",
    "from utils import *\n",
    "import gensim\n",
    "from IPython.display import SVG\n",
    "from keras.utils.vis_utils import model_to_dot"
   ]
  },
  {
   "cell_type": "code",
   "execution_count": null,
   "metadata": {},
   "outputs": [],
   "source": [
    "def my_loss(y_true, y_pred):\n",
    "    return y_pred\n",
    "\n",
    "def neg_sample_loss(x):\n",
    "    posZ, negZ = x\n",
    "    posZ = K.log(K.sigmoid(posZ))\n",
    "    negZ = K.log(K.sigmoid(-negZ))\n",
    "    \n",
    "    loss = -posZ - negZ\n",
    "    return loss\n",
    "\n",
    "def conv_model_multi(n_chars, n_consonant, n_vowels, n_units):\n",
    "    target_word = Input(shape=(n_chars, (n_consonant + n_vowels), 1), name=\"target_word\")\n",
    "    context_word = Input(shape=(n_chars, (n_consonant + n_vowels), 1), name=\"context_word\")\n",
    "    negative_word = Input(shape=(n_chars, (n_consonant + n_vowels), 1), name=\"negative_word\")\n",
    "    \n",
    "    input_word = Input(shape=(n_chars, (n_consonant + n_vowels), 1), name=\"input_word\")\n",
    "    t = Conv2D(10, (5, 5), padding='same', activation='relu')(input_word)\n",
    "    t = MaxPooling2D(3, 3)(t)\n",
    "    t = Flatten()(t)\n",
    "    t = Dense(n_units, activation='linear')(t)\n",
    "    target_model = Model(input_word, t, name=\"target_model\")\n",
    "    \n",
    "    out_word = Input(shape=(n_chars, (n_consonant + n_vowels), 1), name=\"out_word\")\n",
    "    c = Conv2D(10, (5, 5), padding='same', activation='relu')(out_word)\n",
    "    c = MaxPooling2D(3, 3)(c)\n",
    "    c = Flatten()(c)\n",
    "    c = Dense(n_units, activation='linear')(c)\n",
    "    context_model = Model(out_word, c, name=\"context_model\")\n",
    "    \n",
    "    target = target_model(target_word)\n",
    "    context = context_model(context_word)\n",
    "    negative = context_model(negative_word)\n",
    "    posZ = Dot(axes=1, name=\"tar_dot_con\")([target, context])\n",
    "    negZ = Dot(axes=1, name=\"tar_dot_neg\")([target, negative])\n",
    "    \n",
    "    loss_layer = Lambda(neg_sample_loss, name=\"neg_loss\")([posZ, negZ])\n",
    "    \n",
    "    model = Model([target_word, context_word, negative_word], loss_layer)\n",
    "    return model, target_model\n",
    "\n",
    "def embedding_pred(vocab, encoder, char2tup):\n",
    "    embeddings = np.ndarray((len(vocab), embed_size))\n",
    "    i = 0\n",
    "    buffer = []\n",
    "    buffer_size = 10000\n",
    "    for wi, word in enumerate(vocab):\n",
    "        word = int2word[word2int[word]]\n",
    "        convec, vowvec = word2vec_seperated(char2tup, word, n_chars, n_consonant, n_vowel)\n",
    "        convec = convec.reshape((-1, n_chars, n_consonant, 1))\n",
    "        vowvec = vowvec.reshape((-1, n_chars, n_vowel, 1))\n",
    "        mat = np.concatenate([convec, vowvec], axis=2)\n",
    "        buffer.append(mat)\n",
    "        if len(buffer) == buffer_size or len(vocab) - wi < buffer_size:\n",
    "            buffer_np = np.stack(buffer).reshape((-1, 13, 50, 1))\n",
    "            result = encoder.predict(buffer_np)\n",
    "            embeddings[i:i+len(buffer)] = result\n",
    "            i += len(buffer)\n",
    "            buffer = []\n",
    "            if i % (4 * buffer_size) == 0:\n",
    "                print(\"Predicting: {0:.2f}%\".format((i * 100.0 / len(vocab))))\n",
    "                \n",
    "    print(\"finished\")\n",
    "    return embeddings"
   ]
  },
  {
   "cell_type": "code",
   "execution_count": null,
   "metadata": {},
   "outputs": [],
   "source": [
    "\n",
    "words = read_file()\n",
    "words, word2freq = min_count_threshold(words)\n",
    "# words = subsampling(words, 1e-3)\n",
    "vocab, word2int, int2word = build_vocab(words)\n",
    "char2int, int2char, char2tup, tup2char, n_consonant, n_vowel = build_charset()\n",
    "print(\"Words to train: \", len(words))\n",
    "print(\"Vocabs to train: \", len(vocab))\n",
    "# print(\"Unk count: \", word2freq['<unk>'])\n",
    "int_words = words_to_ints(word2int, words)\n",
    "int_words = np.array(int_words, dtype=np.int32)\n",
    "n_chars = 11 + 2\n",
    "batch_size = 100\n",
    "embed_size = 75\n",
    "skip_window = 2\n",
    "n_features = len(char2int)\n",
    "ns_unigrams = list(np.array(\n",
    "    ns_sample(word2freq, word2int, int2word, .75), dtype=np.int32))\n",
    "\n",
    "n_batches = len(int_words) * skip_window * 2  // batch_size\n"
   ]
  },
  {
   "cell_type": "code",
   "execution_count": null,
   "metadata": {
    "scrolled": true
   },
   "outputs": [],
   "source": [
    "try:\n",
    "    del train_model\n",
    "    keras.backend.clear_session()\n",
    "    gc.collect()\n",
    "except:\n",
    "    pass\n",
    "train_model, target_model = conv_model_multi(n_chars, n_consonant, n_vowel, embed_size)\n",
    "adam = keras.optimizers.Nadam(.0005)\n",
    "train_model.compile(optimizer=adam, loss=my_loss)\n",
    "gen = gen_imag_neg(list(int_words), skip_window, batch_size,\n",
    "               int2word, char2tup,ns_unigrams, n_chars, n_consonant, n_vowel)\n",
    "# train_model.summary()"
   ]
  },
  {
   "cell_type": "code",
   "execution_count": null,
   "metadata": {},
   "outputs": [],
   "source": [
    "filepath = \"em/weight-{epoch:02d}-{loss:.4f}.hdf5\"\n",
    "checkpoint = ModelCheckpoint(filepath, monitor='loss', verbose=1)\n",
    "callbacks = [checkpoint]\n",
    "history = train_model.fit_generator(gen, steps_per_epoch=n_batches, epochs = 10, callbacks=callbacks)"
   ]
  },
  {
   "cell_type": "code",
   "execution_count": null,
   "metadata": {},
   "outputs": [],
   "source": [
    "embeddings = embedding_pred(vocab, target_model, char2tup)"
   ]
  },
  {
   "cell_type": "code",
   "execution_count": null,
   "metadata": {},
   "outputs": [],
   "source": [
    "evaluate(word2int, embeddings, embed_size=75) \n",
    "evaluate(word2int, normalize(embeddings), embed_size=75)"
   ]
  },
  {
   "cell_type": "code",
   "execution_count": null,
   "metadata": {},
   "outputs": [],
   "source": []
  }
 ],
 "metadata": {
  "kernelspec": {
   "display_name": "Python 3",
   "language": "python",
   "name": "python3"
  },
  "language_info": {
   "codemirror_mode": {
    "name": "ipython",
    "version": 3
   },
   "file_extension": ".py",
   "mimetype": "text/x-python",
   "name": "python",
   "nbconvert_exporter": "python",
   "pygments_lexer": "ipython3",
   "version": "3.6.8"
  }
 },
 "nbformat": 4,
 "nbformat_minor": 2
}
