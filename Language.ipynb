{
 "cells": [
  {
   "cell_type": "code",
   "execution_count": 2,
   "metadata": {},
   "outputs": [],
   "source": [
    "from keras.models import Sequential\n",
    "from keras.layers import Dense\n",
    "from keras.layers import Dropout\n",
    "from keras.layers import LSTM, TimeDistributed\n",
    "from keras.layers import Concatenate, Flatten\n",
    "from keras.layers import GRU, Conv2D, MaxPooling2D, Embedding\n",
    "from keras.layers import Input, Reshape, Dot, Add\n",
    "from keras.models import Model\n",
    "from keras.optimizers import Adam\n",
    "from keras.optimizers import RMSprop\n",
    "# from keras.utils.vis_utils import plot_model\n",
    "import keras\n",
    "import keras.backend as K\n",
    "from data_handle import *\n",
    "from gensim_wrapper import *\n",
    "from utils import *\n",
    "import gensim\n",
    "import random\n",
    "import numpy as np\n",
    "import tensorflow as tf\n",
    "seed_val = 1000\n",
    "random.seed(seed_val)\n",
    "np.random.seed(seed_val)\n",
    "tf.set_random_seed(seed_val)"
   ]
  },
  {
   "cell_type": "code",
   "execution_count": 3,
   "metadata": {},
   "outputs": [],
   "source": [
    "def conv_model_multi(vocab_size, n_seq, embed_size, n_consonant, n_vowels, n_units):\n",
    "    root_word_input = Input(shape=(seq_len,), dtype='int32', name=\"root_word_input\")\n",
    "    \n",
    "    x = Embedding(vocab_size, embed_size, input_length=n_seq)(root_word_input)\n",
    "    _, state_h = GRU(n_units, return_sequences=True, return_state=True, activation='relu')(x)\n",
    "    \n",
    "    consonant_decoder_inputs = Input(shape=(None, n_consonant), name=\"target_consonant\")\n",
    "    consonant_decoder_gru = GRU(n_units, return_sequences=True, return_state=True,  name=\"consonant_decoder_gru\")\n",
    "    consonant_decoder_outputs, _= consonant_decoder_gru(consonant_decoder_inputs, initial_state=state_h)\n",
    "    \n",
    "    vowel_decoder_inputs = Input(shape=(None, n_vowels), name=\"vowel_input\")\n",
    "    vowel_decoder_gru = GRU(n_units, return_sequences=True, return_state=True, name=\"vowl_decoder_gru\")\n",
    "    vowel_decoder_outputs, _= vowel_decoder_gru(vowel_decoder_inputs, initial_state=state_h)\n",
    "\n",
    "    consonant_decoder_dense = Dense(n_consonant, activation='softmax', name=\"consonant_output\")\n",
    "    consonant_decoder_outputs = consonant_decoder_dense(consonant_decoder_outputs)\n",
    "    \n",
    "    vowel_decoder_dense = Dense(n_vowels, activation='softmax', name=\"vowel_output\")\n",
    "    vowel_decoder_outputs = vowel_decoder_dense(vowel_decoder_outputs)\n",
    "    \n",
    "    main_model = Model([root_word_input, consonant_decoder_inputs, vowel_decoder_inputs], [consonant_decoder_outputs, vowel_decoder_outputs])\n",
    "    \n",
    "    encoder_model = Model(root_word_input, state_h)\n",
    "    \n",
    "    decoder_state_input_h = Input(shape=(n_units,))\n",
    "    \n",
    "    consonant_decoder_outputs, state_h= consonant_decoder_gru(consonant_decoder_inputs, initial_state=decoder_state_input_h)\n",
    "    consonant_decoder_outputs = consonant_decoder_dense(consonant_decoder_outputs)\n",
    "    \n",
    "    vowel_decoder_outputs, state_h= vowel_decoder_gru(vowel_decoder_inputs, initial_state=decoder_state_input_h)\n",
    "    vowel_decoder_outputs = vowel_decoder_dense(vowel_decoder_outputs)\n",
    "    \n",
    "    decoder_model = Model([consonant_decoder_inputs, vowel_decoder_inputs, decoder_state_input_h], [consonant_decoder_outputs, vowel_decoder_outputs, state_h])\n",
    "\n",
    "    return main_model , encoder_model, decoder_model"
   ]
  },
  {
   "cell_type": "code",
   "execution_count": 4,
   "metadata": {},
   "outputs": [],
   "source": [
    "def generateSG(data, word2int, char2tup, skip_window, batch_size, n_consonant, n_vowels):\n",
    "    win_size = skip_window  \n",
    "    i = win_size\n",
    "    assert batch_size % (win_size + 1) == 0\n",
    "    targets, target_inputs = {}, {}\n",
    "    for word in word2int.keys():\n",
    "        target = word + '|'\n",
    "        target_input = '&' + target + '|'\n",
    "        targets[word] = target\n",
    "        target_inputs[word] = target_inputs\n",
    "        \n",
    "    batch = 0\n",
    "    n_batchs = len(words) // batch_size\n",
    "    n_chars = 13\n",
    "    while True:\n",
    "        batch_input = []\n",
    "        batch_decoder_cons_input = []\n",
    "        batch_decoder_vow_input = []\n",
    "        batch_output_cons = []\n",
    "        batch_output_vow = []\n",
    "        for bi in range(0, batch_size, skip_window * 2 + 1):\n",
    "            context = data[i - win_size: i + win_size + 1]\n",
    "            target = [context[win_size]] * (win_size * 2 + 1)\n",
    "            \n",
    "            for x, y in zip(contex, target):\n",
    "                input_word = int2word[x]\n",
    "                output_word = int2word[y]\n",
    "                input_con, input_vow = word2vec_seperated(char2tup, input_word, n_chars, n_consonant, n_vowels)\n",
    "                target_con, target_vow = word2vec_seperated(char2tup,targets[output_word], n_chars, n_consonant, n_vowels)\n",
    "                decoder_con, decoder_vow = word2vec_seperated(char2tup,target_inputs[output_word], n_chars, n_consonant, n_vowels)\n",
    "                input_vec = np.concatenate([input_con, input_vow], axis=1).reshape((n_chars, (n_consonant + n_vowels), 1))\n",
    "                \n",
    "                batch_input.append(input_vec)\n",
    "                batch_decoder_cons_input.append(decoder_con)\n",
    "                batch_decoder_vow_input.append(decoder_vow)\n",
    "                batch_output_cons.append(target_con)\n",
    "                batch_output_vow.append(target_vow)\n",
    "\n",
    "            i += 1\n",
    "            if i + win_size + 1 > len(data):\n",
    "                i = win_size\n",
    "        yield [batch_input, batch_decoder_cons_input, batch_decoder_vow_input], [batch_output_cons, batch_output_vow]\n"
   ]
  },
  {
   "cell_type": "code",
   "execution_count": null,
   "metadata": {},
   "outputs": [],
   "source": [
    "words = read_file(filename='data/news.txt')\n",
    "vocab, word2int, int2word = build_vocab(words)\n",
    "word2freq = get_frequency(words, word2int, int2word)\n",
    "\n",
    "int_words = words_to_ints(word2int, words)\n",
    "word2freq = get_frequency(words, word2int, int2word)\n",
    "char2int, int2char, char2tup, tup2char, n_consonant, n_vowel = build_charset()\n",
    "ns_unigrams = ns_sample(word2freq, word2int, int2word, .75)\n",
    "n_chars = 11 + 2 \n",
    "n_features = len(char2int)\n",
    "batch_size = 500\n",
    "embed_size = 100\n",
    "skip_window = 2\n",
    "seq_len = 5\n",
    "rnn_n_units = 64\n",
    "vocab_size = len(vocab)\n",
    "n_batches = len(words) // batch_size"
   ]
  },
  {
   "cell_type": "code",
   "execution_count": null,
   "metadata": {},
   "outputs": [],
   "source": [
    "main_model, encoder_model, decoder_model = conv_model_multi(vocab_size, seq_len, embed_size, n_consonant, n_vowel, rnn_n_units)\n",
    "adam = keras.optimizers.Nadam(0.001)\n",
    "main_model.compile(optimizer=adam, loss=\"categorical_crossentropy\", metrics=['acc'])\n",
    "# main_model.summary()"
   ]
  },
  {
   "cell_type": "code",
   "execution_count": null,
   "metadata": {},
   "outputs": [],
   "source": [
    "gen = generate_for_char_langauge(words, int_words, int2word, char2tup, batch_size=batch_size, n_chars=13, n_consonant=n_consonant, n_vowels=10, seq_length=seq_len)"
   ]
  },
  {
   "cell_type": "code",
   "execution_count": null,
   "metadata": {},
   "outputs": [],
   "source": [
    "\n",
    "history = main_model.fit_generator(gen, steps_per_epoch=n_batches, epochs = 2)"
   ]
  },
  {
   "cell_type": "code",
   "execution_count": null,
   "metadata": {},
   "outputs": [],
   "source": []
  }
 ],
 "metadata": {
  "kernelspec": {
   "display_name": "Python 3",
   "language": "python",
   "name": "python3"
  },
  "language_info": {
   "codemirror_mode": {
    "name": "ipython",
    "version": 3
   },
   "file_extension": ".py",
   "mimetype": "text/x-python",
   "name": "python",
   "nbconvert_exporter": "python",
   "pygments_lexer": "ipython3",
   "version": "3.6.5"
  }
 },
 "nbformat": 4,
 "nbformat_minor": 2
}
