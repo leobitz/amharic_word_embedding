{
 "cells": [
  {
   "cell_type": "code",
   "execution_count": 8,
   "metadata": {},
   "outputs": [],
   "source": [
    "from keras.models import Sequential\n",
    "from keras.layers import Dense\n",
    "from keras.layers import Dropout\n",
    "from keras.layers import LSTM, TimeDistributed\n",
    "from keras.layers import Concatenate, Flatten\n",
    "from keras.layers import GRU, Conv2D, MaxPooling2D, Embedding\n",
    "from keras.layers import Input, Reshape, Dot, Add\n",
    "from keras.models import Model\n",
    "from keras.optimizers import Adam\n",
    "from keras.optimizers import RMSprop\n",
    "# from keras.utils.vis_utils import plot_model\n",
    "import keras\n",
    "import keras.backend as K\n",
    "from data_handle import *\n",
    "from gensim_wrapper import *\n",
    "from utils import *\n",
    "import gensim\n",
    "import random\n",
    "import numpy as np\n",
    "import tensorflow as tf\n",
    "seed_val = 1000\n",
    "random.seed(seed_val)\n",
    "np.random.seed(seed_val)\n",
    "tf.set_random_seed(seed_val)"
   ]
  },
  {
   "cell_type": "code",
   "execution_count": 50,
   "metadata": {},
   "outputs": [],
   "source": [
    "def conv_model_multi(vocab_size, n_seq, embed_size, n_consonant, n_vowels, n_units):\n",
    "    root_word_input = Input(shape=(embed_size,), dtype='int32', name=\"root_word_input\")\n",
    "    \n",
    "    x = Embedding(vocab_size, embed_size, input_length=n_seq)(root_word_input)\n",
    "#     x = GRU(n_units)(x)\n",
    "    \n",
    "    consonant_decoder_gru = GRU(n_units, return_sequences=True, name=\"consonant_decoder_gru\")\n",
    "    consonant_decoder_outputs = consonant_decoder_gru(x)\n",
    "    \n",
    "    vowel_decoder_gru = GRU(n_units, return_sequences=True, name=\"vowl_decoder_gru\")\n",
    "    vowel_decoder_outputs = vowel_decoder_gru(x)\n",
    "\n",
    "    consonant_decoder_dense = Dense(n_consonant, activation='softmax', name=\"consonant_output\")\n",
    "    consonant_decoder_outputs = consonant_decoder_dense(consonant_decoder_outputs)\n",
    "    \n",
    "    vowel_decoder_dense = Dense(n_vowels, activation='softmax', name=\"vowel_output\")\n",
    "    vowel_decoder_outputs = vowel_decoder_dense(vowel_decoder_outputs)\n",
    "    \n",
    "    main_model = Model(root_word_input, [consonant_decoder_outputs, vowel_decoder_outputs])\n",
    "    \n",
    "    \n",
    "    return main_model"
   ]
  },
  {
   "cell_type": "code",
   "execution_count": null,
   "metadata": {},
   "outputs": [],
   "source": [
    "def generate_word_images_multi(words, int_words, char2tup, batch_size, n_consonant, n_vowels, seq_length):\n",
    "    \"\"\"\n",
    "\n",
    "    returns cbow input of integer sequence of words. the inputs are for RNN where the context, is normal\n",
    "    but for the decoder, there is an input and output\n",
    "\n",
    "    \"\"\"\n",
    "    targets, target_inputs = [], []\n",
    "    for word in words:\n",
    "        target = word  # + '|'\n",
    "        target_input = '&' + target + '|'\n",
    "        targets.append(target)\n",
    "        target_inputs.append(target_input)\n",
    "    batch = 0\n",
    "    n_batchs = len(words) // batch_size\n",
    "    n_chars = 13\n",
    "    while True:\n",
    "        batch_words = words[batch:batch + batch_size]\n",
    "        batch_int_words = get_context_words(int_words)\n",
    "        batch_inputs = np.ndarray((batch_size, 1), dtype=np.float32)\n",
    "        \n",
    "        batch_cons_output = np.ndarray(\n",
    "            (batch_size, n_chars, n_consonant), dtype=np.float32)\n",
    "        batch_vow_output = np.ndarray(\n",
    "            (batch_size, n_chars,  n_vowels), dtype=np.float32)\n",
    "        \n",
    "        for i in range(batch_size):\n",
    "            input_con, input_vow = word2vec_seperated(char2tup,\n",
    "                                                      batch_words[i], n_chars, n_consonant, n_vowels)\n",
    "\n",
    "            batch_inputs[i][0] = \n",
    "\n",
    "            batch_cons_output[i] = input_con\n",
    "            batch_vow_output[i] = input_vow\n",
    "        yield [batch_inputs, batch_cons_dec_inputs, batch_vow_dec_inputs], [batch_cons_output, batch_vow_output]\n",
    "        batch += 1\n",
    "        if batch == n_batchs:\n",
    "            batch = 0\n"
   ]
  },
  {
   "cell_type": "code",
   "execution_count": 51,
   "metadata": {},
   "outputs": [],
   "source": [
    "train = conv_model_multi(20000, 6, 128, 40, 10, 256)"
   ]
  },
  {
   "cell_type": "code",
   "execution_count": 52,
   "metadata": {},
   "outputs": [
    {
     "name": "stdout",
     "output_type": "stream",
     "text": [
      "__________________________________________________________________________________________________\n",
      "Layer (type)                    Output Shape         Param #     Connected to                     \n",
      "==================================================================================================\n",
      "root_word_input (InputLayer)    (None, 128)          0                                            \n",
      "__________________________________________________________________________________________________\n",
      "embedding_19 (Embedding)        (None, 6, 128)       2560000     root_word_input[0][0]            \n",
      "__________________________________________________________________________________________________\n",
      "consonant_decoder_gru (GRU)     (None, 6, 256)       295680      embedding_19[0][0]               \n",
      "__________________________________________________________________________________________________\n",
      "vowl_decoder_gru (GRU)          (None, 6, 256)       295680      embedding_19[0][0]               \n",
      "__________________________________________________________________________________________________\n",
      "consonant_output (Dense)        (None, 6, 40)        10280       consonant_decoder_gru[0][0]      \n",
      "__________________________________________________________________________________________________\n",
      "vowel_output (Dense)            (None, 6, 10)        2570        vowl_decoder_gru[0][0]           \n",
      "==================================================================================================\n",
      "Total params: 3,164,210\n",
      "Trainable params: 3,164,210\n",
      "Non-trainable params: 0\n",
      "__________________________________________________________________________________________________\n"
     ]
    }
   ],
   "source": [
    "train.summary()"
   ]
  },
  {
   "cell_type": "code",
   "execution_count": null,
   "metadata": {},
   "outputs": [],
   "source": []
  }
 ],
 "metadata": {
  "kernelspec": {
   "display_name": "Python 3",
   "language": "python",
   "name": "python3"
  },
  "language_info": {
   "codemirror_mode": {
    "name": "ipython",
    "version": 3
   },
   "file_extension": ".py",
   "mimetype": "text/x-python",
   "name": "python",
   "nbconvert_exporter": "python",
   "pygments_lexer": "ipython3",
   "version": "3.6.5"
  }
 },
 "nbformat": 4,
 "nbformat_minor": 2
}
